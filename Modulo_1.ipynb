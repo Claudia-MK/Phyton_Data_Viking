{
  "nbformat": 4,
  "nbformat_minor": 0,
  "metadata": {
    "colab": {
      "name": "Modulo 1.ipynb",
      "provenance": [],
      "collapsed_sections": [],
      "toc_visible": true,
      "authorship_tag": "ABX9TyMh/Adg6I90dyb3CEpY9WLU",
      "include_colab_link": true
    },
    "kernelspec": {
      "name": "python3",
      "display_name": "Python 3"
    },
    "language_info": {
      "name": "python"
    }
  },
  "cells": [
    {
      "cell_type": "markdown",
      "metadata": {
        "id": "view-in-github",
        "colab_type": "text"
      },
      "source": [
        "<a href=\"https://colab.research.google.com/github/Claudia-MK/Phyton_Data_Viking/blob/main/Modulo_1.ipynb\" target=\"_parent\"><img src=\"https://colab.research.google.com/assets/colab-badge.svg\" alt=\"Open In Colab\"/></a>"
      ]
    },
    {
      "cell_type": "markdown",
      "source": [
        "# 1. - Sintaxe básica\n",
        "Para colocar um texto utilizar o comando print.\n",
        "\n",
        "Escreva o texto entre aspas simples ' ' ou aspas duplas \" \".\n",
        "\n",
        "Para pular linha \\n.\n",
        "\n",
        "O # é utilizado para incluir um comentário no decorrer do codigo."
      ],
      "metadata": {
        "id": "pq_2zSJQXCPs"
      }
    },
    {
      "cell_type": "code",
      "source": [
        "print('Hello World!!!\\n') # aqui posso escrever\n",
        "print(\"Olá Mundo!!!\")"
      ],
      "metadata": {
        "colab": {
          "base_uri": "https://localhost:8080/"
        },
        "id": "so7kIGQNZd0C",
        "outputId": "5df12266-e636-4cbb-b8d6-da6f4d4ad397"
      },
      "execution_count": 5,
      "outputs": [
        {
          "output_type": "stream",
          "name": "stdout",
          "text": [
            "Hello World!!!\n",
            "\n",
            "Olá Mundo!!!\n"
          ]
        }
      ]
    },
    {
      "cell_type": "markdown",
      "source": [
        ""
      ],
      "metadata": {
        "id": "MIqzx4XiW579"
      }
    }
  ]
}