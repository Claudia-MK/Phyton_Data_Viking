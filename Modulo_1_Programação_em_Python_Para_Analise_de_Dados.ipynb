{
  "nbformat": 4,
  "nbformat_minor": 0,
  "metadata": {
    "colab": {
      "name": "Modulo 1 - Programação em Python - Para Analise de Dados",
      "provenance": [],
      "collapsed_sections": [],
      "toc_visible": true,
      "authorship_tag": "ABX9TyMPnPusB5qOUPJ5Yr/4bvby",
      "include_colab_link": true
    },
    "kernelspec": {
      "name": "python3",
      "display_name": "Python 3"
    },
    "language_info": {
      "name": "python"
    }
  },
  "cells": [
    {
      "cell_type": "markdown",
      "metadata": {
        "id": "view-in-github",
        "colab_type": "text"
      },
      "source": [
        "<a href=\"https://colab.research.google.com/github/Claudia-MK/Phyton_Data_Viking/blob/main/Modulo_1_Programa%C3%A7%C3%A3o_em_Python_Para_Analise_de_Dados.ipynb\" target=\"_parent\"><img src=\"https://colab.research.google.com/assets/colab-badge.svg\" alt=\"Open In Colab\"/></a>"
      ]
    },
    {
      "cell_type": "markdown",
      "source": [
        "# **1. Sintaxe Básica**\n",
        "Para colocar um texto utilizar o comando print (caixa baixa).\n",
        "\n",
        "Escreva o texto entre aspas simples ' ' ou aspas duplas \" \".\n",
        "\n",
        "Para pular linha \\n.\n",
        "\n",
        "O # é utilizado para incluir um comentário no decorrer do código."
      ],
      "metadata": {
        "id": "pq_2zSJQXCPs"
      }
    },
    {
      "cell_type": "code",
      "source": [
        "print('Hello World!!!\\n') # com o asterisco posso incruir meus commits\n",
        "print(\"Olá Mundo!!!\")"
      ],
      "metadata": {
        "colab": {
          "base_uri": "https://localhost:8080/"
        },
        "id": "so7kIGQNZd0C",
        "outputId": "266ea111-a9f8-4f58-d8f1-5047cede265c"
      },
      "execution_count": null,
      "outputs": [
        {
          "output_type": "stream",
          "name": "stdout",
          "text": [
            "Hello World!!!\n",
            "\n",
            "Olá Mundo!!!\n"
          ]
        }
      ]
    },
    {
      "cell_type": "markdown",
      "source": [
        ""
      ],
      "metadata": {
        "id": "eo3GQeB3MHWO"
      }
    },
    {
      "cell_type": "markdown",
      "source": [
        "# **2. Operadores Matemáticos**\n",
        "1. Soma (+)\n",
        "2. Subtração (-)\n",
        "3. Multiplicação (*)\n",
        "4. Divisão (/)\n",
        "5. Exponenciação (**)\n",
        "6. Resto da Divisão (%)\n",
        "7. Divisão de Chão (//)\n",
        "8. Priorização (Sempre que for necesário priorizar alguma operação matemática, utilizar entre parenteses)\n",
        "\n",
        "\n",
        "\n"
      ],
      "metadata": {
        "id": "nBxXnpmkZlZE"
      }
    },
    {
      "cell_type": "code",
      "source": [
        "# Operadores para cálculos\n",
        "Soma = 1 + 2\n",
        "Subtração = 2 - 1\n",
        "Multiplicação = 2 * 5\n",
        "Divisão = 10 / 2\n",
        "Exponenciação = 2 ** 3\n",
        "Resto_Divisao = 7 % 3\n",
        "Divisao_Chão = 9 // 2\n",
        "Priorização = ( 2 + 2 ) * 4\n",
        "\n",
        "# Print formatado\n",
        "print( 'Soma:{}'.format(Soma) ) \n",
        "print( 'Subtração:', Subtração ) \n",
        "print( f'Multiplicação: {Multiplicação}' )\n",
        "print( 'Divisão', Divisão ) \n",
        "print( 'Exponenciação: {}' .format(Exponenciação) )\n",
        "print( 'Resto_Divisão: ', Resto_Divisao )\n",
        "print( 'Divisao_Chão: {}'.format(Divisao_Chão) )\n",
        "print( 'Varios elementos: {}, {}, {}'.format(Soma, Subtração, Divisão) )\n",
        "print( 'Priorização: ', Priorização)"
      ],
      "metadata": {
        "colab": {
          "base_uri": "https://localhost:8080/"
        },
        "id": "_14zqvLQbEqH",
        "outputId": "589de53d-f357-45ef-a071-512bb0ca11d6"
      },
      "execution_count": null,
      "outputs": [
        {
          "output_type": "stream",
          "name": "stdout",
          "text": [
            "Soma:3\n",
            "Subtração: 1\n",
            "Multiplicação: 10\n",
            "Divisão 5.0\n",
            "Exponenciação: 8\n",
            "Resto_Divisão:  1\n",
            "Divisao_Chão: 4\n",
            "Varios elementos: 3, 1, 5.0\n",
            "Priorização:  16\n"
          ]
        }
      ]
    },
    {
      "cell_type": "markdown",
      "source": [
        "# **3. Variáveis**\n",
        "Variáveis ​​são contêineres para armazenar valores de dados.\n",
        "\n",
        "Uma variável é criada ao atribuir um valor a ela.\n",
        "\n",
        "Nunca escreva uma variável utilizando espaço, para separar as palavras utilizar _.\n",
        "\n",
        "Não repetir o nome das variáveis, pois elas se subscrevem durante a execução do código."
      ],
      "metadata": {
        "id": "TqfBfLGhfk4Z"
      }
    },
    {
      "cell_type": "code",
      "source": [
        "# Tipos de Variaveis\n",
        "Inteiro_Exemplo_1 = int ( 100 )\n",
        "Inteiro_Exemplo_2 = 50\n",
        "\n",
        "Flutuante_Exemplo_1 = 9.50\n",
        "Flutuante_Exemplo_2 = float( 10.50 )\n",
        "\n",
        "Palavra_Exemplo_1 = 'Texto Qualquer'\n",
        "Palavra_Exemplo_2 = str( 'Qualquer Palavra' )\n",
        "\n",
        "Booleando_Exemplo_1 = True \n",
        "Booleando_Exemplo_2 = False\n",
        "\n",
        "print( Inteiro_Exemplo_1, Inteiro_Exemplo_2, '\\n' )\n",
        "print( Flutuante_Exemplo_1, Flutuante_Exemplo_2, '\\n' )\n",
        "print( Palavra_Exemplo_1, Palavra_Exemplo_2, '\\n' )\n",
        "print( Booleando_Exemplo_1, Booleando_Exemplo_2, '\\n' )"
      ],
      "metadata": {
        "colab": {
          "base_uri": "https://localhost:8080/"
        },
        "id": "dvsznAUUmwu_",
        "outputId": "0a3f5012-da21-4965-9171-328f7ec6410b"
      },
      "execution_count": null,
      "outputs": [
        {
          "output_type": "stream",
          "name": "stdout",
          "text": [
            "100 50 \n",
            "\n",
            "9.5 10.5 \n",
            "\n",
            "Texto Qualquer Qualquer Palavra \n",
            "\n",
            "True False \n",
            "\n"
          ]
        }
      ]
    },
    {
      "cell_type": "markdown",
      "source": [
        "# **4. Tipos de Dados**\n",
        "1. Listas - São criadas usando [ ] (Colchetes)\n",
        "\n",
        "2. Tuplas - São criadas usando ( ) (Parenteses)\n",
        "\n",
        "3. Dicionários - São criadas usando { } (Chaves)\n",
        "\n",
        "Esses tipos de dados podem receber qualquer tipo de informação, inclusive Operações Aritméticas.\n",
        "\n",
        "Cuidado no uso das Tuplas, pois não podem ser atualizados os valores."
      ],
      "metadata": {
        "id": "HxEtabyfwHZN"
      }
    },
    {
      "cell_type": "code",
      "source": [
        "# Tipos de Dados\n",
        "Lista_Exemplo_1 = [1, 2, 3, 4, 5]\n",
        "Lista_Exemplo_2 = ['Sala', 'Mesa', 'Morango', 4, 5]\n",
        "Lista_Exemplo_3 = [1, 'Planta', True, False]\n",
        "\n",
        "print( Lista_Exemplo_1 )\n",
        "print( Lista_Exemplo_2 )\n",
        "print( Lista_Exemplo_3 )"
      ],
      "metadata": {
        "colab": {
          "base_uri": "https://localhost:8080/"
        },
        "id": "wmWUM_mJwPBn",
        "outputId": "dc8f995b-b9a4-45ae-f782-7d58f1fe1bad"
      },
      "execution_count": null,
      "outputs": [
        {
          "output_type": "stream",
          "name": "stdout",
          "text": [
            "[1, 2, 3, 4, 5]\n",
            "['Sala', 'Mesa', 'Morango', 4, 5]\n",
            "[1, 'Planta', True, False]\n"
          ]
        }
      ]
    },
    {
      "cell_type": "code",
      "source": [
        "# Tuplas são imutáveis (Não modifica)\n",
        "Tupla_Exemplo_1 = ( 2, 3, 4, 6 )\n",
        "Tupla_Exemplo_2 = ( \"Alex\", 'Oliveira', 4 )\n",
        "\n",
        "print( Tupla_Exemplo_1 )\n",
        "print( Tupla_Exemplo_2 )"
      ],
      "metadata": {
        "colab": {
          "base_uri": "https://localhost:8080/"
        },
        "id": "jbDhiHaVw7F8",
        "outputId": "3282330c-24c7-4b9c-d7e2-08133a8f317a"
      },
      "execution_count": null,
      "outputs": [
        {
          "output_type": "stream",
          "name": "stdout",
          "text": [
            "(2, 3, 4, 6)\n",
            "('Alex', 'Oliveira', 4)\n"
          ]
        }
      ]
    },
    {
      "cell_type": "code",
      "source": [
        "# Dicionário são para organizar os dados (Chave, Valor)\n",
        "Dicionario = { 'Nome':'Alex', 'Idade':42 }\n",
        "\n",
        "print( Dicionario )"
      ],
      "metadata": {
        "colab": {
          "base_uri": "https://localhost:8080/"
        },
        "id": "bx4lgU9JxksO",
        "outputId": "a3decc25-a9fa-4344-add2-f45c36d67ee9"
      },
      "execution_count": null,
      "outputs": [
        {
          "output_type": "stream",
          "name": "stdout",
          "text": [
            "{'Nome': 'Alex', 'Idade': 42}\n"
          ]
        }
      ]
    },
    {
      "cell_type": "markdown",
      "source": [
        "# **5. Nomeação de Variáveis**\n",
        "Podemos nomear variáveis e tipos de dados de diversas formas:\n",
        "\n",
        "1. Declarar as variáveis em uma única linha de comando;\n",
        "2. Atribuir um valor à diversas variáveis;\n",
        "3. Declarar usando uma Lista;\n",
        "4. Combinar variáveis;\n",
        "5. Operar com operadores matemáticos;\n",
        "6. Muitos outros."
      ],
      "metadata": {
        "id": "_ST7XnUTy6J8"
      }
    },
    {
      "cell_type": "code",
      "source": [
        "# Nomeando Variáveis | Exemplo 1\n",
        "Laranja, Melão, Limão = 1, 2, 3\n",
        "print( Laranja, Melão, Limão, '\\n' )\n",
        "\n",
        "# Nomeando Variáveis | Exemplo 2\n",
        "Morango = Uva = Kiwi = 100\n",
        "print( Morango, Uva, Kiwi, '\\n' )\n",
        "\n",
        "# Nomeando Variáveis | Exemplo 3\n",
        "# Criando uma lista\n",
        "Motos = ['Suzuki', 'Yamaha', 'Honda']\n",
        "\n",
        "# Nomeando as Variáveis com a lista\n",
        "Marca_01, Marca_02, Marca_03 = Motos\n",
        "print( Marca_02, '\\n' )\n",
        "\n",
        "# Combinando Variáveis | Exemplo 1\n",
        "Nome = 'Alex'\n",
        "Sobrenome = 'Oliveira'\n",
        "Nome_Completo = Nome + ' ' + Sobrenome\n",
        "print( Nome_Completo, '\\n' )\n",
        "\n",
        "# Combinando Variáveis | Exemplo 2\n",
        "Dolar = 5.50\n",
        "Imposto = 0.18\n",
        "Valor_Liquido = Dolar - ( Dolar * Imposto )\n",
        "print( Valor_Liquido )"
      ],
      "metadata": {
        "colab": {
          "base_uri": "https://localhost:8080/"
        },
        "id": "OXacSKtPziy_",
        "outputId": "6596dd15-606f-420b-caef-6a34deb5cae4"
      },
      "execution_count": null,
      "outputs": [
        {
          "output_type": "stream",
          "name": "stdout",
          "text": [
            "1 2 3 \n",
            "\n",
            "100 100 100 \n",
            "\n",
            "Yamaha \n",
            "\n",
            "Alex Oliveira \n",
            "\n",
            "4.51\n"
          ]
        }
      ]
    },
    {
      "cell_type": "markdown",
      "source": [
        "# **6. Tipo da Informação**\n",
        "Na programação, o tipo de dados é um conceito importante.\n",
        "Variáveis ​​podem armazenar dados de diferentes tipos, e diferentes tipos podem fazer coisas diferentes.\n",
        "O Python tem os seguintes tipos de dados integrados por padrão, nestas categorias:\n",
        "1. Text Type: *str*\n",
        "2. Numeric Types:\t*int*, *float*, *complex*\n",
        "3. Sequence Types:\t*list*, *tuple*, *range*\n",
        "4. Mapping Type:\t*dict*\n",
        "5. Set Types:\t*set*, *frozenset*\n",
        "6. Boolean Type:\t*bool*\n",
        "7. Binary Types:\t*bytes*, *bytearray*, *memoryview*\n"
      ],
      "metadata": {
        "id": "yL7GD_ejBSIC"
      }
    },
    {
      "cell_type": "code",
      "source": [
        "# Criando tipos de informações\n",
        "String = str('Hello World!')\n",
        "Inteiro = int(10)\n",
        "Flutuante = float(10.99)\n",
        "Complex = complex(1j)\n",
        "Lista = list( ('Maçã', 'Morango', 'Pera') )\n",
        "Tupla = tuple( ('Maçã', 'Morango', 'Pera') )\n",
        "Range = range(6)\n",
        "Dicionario = dict(nome='Alex', idade=42)\n",
        "Set = set( ('Maçã', 'Morango', 'Pera') )\n",
        "Frozenset = frozenset( ('Maçã', 'Morango', 'Pera') )\n",
        "Boleano = bool(5)\n",
        "Bytes = bytes(5)\n",
        "ByteArray = bytearray(5)\n",
        "Memoryview = memoryview( bytes(5) )\n",
        "\n",
        "from datetime import datetime\n",
        "Data = datetime.today().date()\n",
        "\n",
        "# Mostrando os Valores\n",
        "print( type(String) )\n",
        "print( type(Inteiro) )\n",
        "print( type(Flutuante) )\n",
        "print( type(Complex) )\n",
        "print( type(Lista) )\n",
        "print( type(Tupla) )\n",
        "print( type(Range) )\n",
        "print( type(Dicionario) )\n",
        "print( type(Set) )\n",
        "print( type(Frozenset) )\n",
        "print( type(Boleano) )\n",
        "print( type(Bytes) )\n",
        "print( type(ByteArray) )\n",
        "print( type(Memoryview) )\n",
        "print( type(Data) )"
      ],
      "metadata": {
        "colab": {
          "base_uri": "https://localhost:8080/"
        },
        "id": "_kMauJMBCTq3",
        "outputId": "3af8dd7b-adac-464c-ff1d-a81ccb459df2"
      },
      "execution_count": null,
      "outputs": [
        {
          "output_type": "stream",
          "name": "stdout",
          "text": [
            "<class 'str'>\n",
            "<class 'int'>\n",
            "<class 'float'>\n",
            "<class 'complex'>\n",
            "<class 'list'>\n",
            "<class 'tuple'>\n",
            "<class 'range'>\n",
            "<class 'dict'>\n",
            "<class 'set'>\n",
            "<class 'frozenset'>\n",
            "<class 'bool'>\n",
            "<class 'bytes'>\n",
            "<class 'bytearray'>\n",
            "<class 'memoryview'>\n",
            "<class 'datetime.date'>\n"
          ]
        }
      ]
    },
    {
      "cell_type": "markdown",
      "source": [
        "# **7. Comando Round**\n",
        "Quando trabalhamos com números flutuantes, podemos diminuir a quantidade de casas decimais, usando um comando nativo do Python.\n",
        "\n",
        "round( valor, número de casas)"
      ],
      "metadata": {
        "id": "-ROs_zE8LuQ1"
      }
    },
    {
      "cell_type": "code",
      "source": [
        "# Comando Round\n",
        "# Metodo round, arredonda valores\n",
        "\n",
        "Valor_Exemplo = 12.123456789\n",
        "\n",
        "print( round( Valor_Exemplo, 1 ) )\n",
        "print( round( Valor_Exemplo, 2 ) )\n",
        "print( round( Valor_Exemplo, 3 ) )\n",
        "print( round( Valor_Exemplo, 5 ) )"
      ],
      "metadata": {
        "colab": {
          "base_uri": "https://localhost:8080/"
        },
        "id": "LgTvNqj1Pej5",
        "outputId": "c0833482-4436-4729-8a83-94e381223589"
      },
      "execution_count": null,
      "outputs": [
        {
          "output_type": "stream",
          "name": "stdout",
          "text": [
            "12.1\n",
            "12.12\n",
            "12.123\n",
            "12.12346\n"
          ]
        }
      ]
    },
    {
      "cell_type": "markdown",
      "source": [
        "# **8. Comando Len**\n",
        "A função len() retorna a quantidade de elementos de qualquer lista em Python, essa é mais uma função built-in e disponível em qualquer parte dos nossos códigos.\n",
        "\n"
      ],
      "metadata": {
        "id": "8D0x_XPiQPES"
      }
    },
    {
      "cell_type": "code",
      "source": [
        "Lista = [1, 2, 3, 4, 5]\n",
        "Dicionario = { 'Nome':'Alex', 'Idade':42, 'Vip':False }\n",
        "Tupla = (10, 20)\n",
        "String = 'Olá Mundo!'\n",
        "\n",
        "print( len(Lista) )\n",
        "print( len(Dicionario) )\n",
        "print( len(Tupla) )\n",
        "print( len(String) )"
      ],
      "metadata": {
        "colab": {
          "base_uri": "https://localhost:8080/"
        },
        "id": "rKeN2ReDQPmd",
        "outputId": "10c53c96-ea73-487b-cc56-17d2b5446850"
      },
      "execution_count": null,
      "outputs": [
        {
          "output_type": "stream",
          "name": "stdout",
          "text": [
            "5\n",
            "3\n",
            "2\n",
            "10\n"
          ]
        }
      ]
    },
    {
      "cell_type": "markdown",
      "source": [
        "# **9. Fatiamento de Strings**\n",
        "Strings são listas de bytes, que represetam caracteres.<p>\n",
        "Podemos acessar suas posições usando Colchetes.<p>\n",
        "String [Posição Inicial: Posição Final]."
      ],
      "metadata": {
        "id": "yRXW89ozQEsl"
      }
    },
    {
      "cell_type": "code",
      "source": [
        "# Strings\n",
        "Minha_String = 'Aprender Python é Tudo de Bom!'\n",
        "print( type(Minha_String) )\n",
        "print( len(Minha_String) )\n",
        "\n",
        "print( Minha_String[0] )\n",
        "print( Minha_String[6] )\n",
        "print( Minha_String[-4] )\n",
        "print( Minha_String[0:15] )\n",
        "print( Minha_String[-12:] )"
      ],
      "metadata": {
        "colab": {
          "base_uri": "https://localhost:8080/"
        },
        "id": "ktcXzQZeRBz0",
        "outputId": "9d1dc583-d235-44a2-9329-6ec2187a93b9"
      },
      "execution_count": null,
      "outputs": [
        {
          "output_type": "stream",
          "name": "stdout",
          "text": [
            "<class 'str'>\n",
            "30\n",
            "A\n",
            "e\n",
            "B\n",
            "Aprender Python\n",
            "Tudo de Bom!\n"
          ]
        }
      ]
    },
    {
      "cell_type": "markdown",
      "source": [
        "# **10. Manipulação de Strings**\n",
        "\n",
        "Um tipo de dados bastante usado no dia a dia são as strings. Que nada mais é do que cadeias de caracteres (ou sequências de caracteres). O tipo de dados string, ou str, como é chamado em Python. Possui várias operações úteis, associadas a ele. Essas operações tornam Python uma linguagem bastante propícia para manipulação de textos.\n",
        "Segue algumas funções mais utilizadas:\n",
        "\n",
        "1. replace()\n",
        "2. startswith()\n",
        "3. endswith()\n",
        "4. count()\n",
        "5. capitalize()\n",
        "6. isdigit()\n",
        "7. isalnum()\n",
        "8. upper()\n",
        "9. lower()\n",
        "10. find ()\n",
        "11. strip()\n",
        "12. split()"
      ],
      "metadata": {
        "id": "HvDLUwbcVb_D"
      }
    },
    {
      "cell_type": "code",
      "source": [
        "# Imprimindo uma string.\n",
        "String = 'Olá Mundo!'\n",
        "print( String )"
      ],
      "metadata": {
        "colab": {
          "base_uri": "https://localhost:8080/"
        },
        "id": "2PP47d3oW4wU",
        "outputId": "87a1729c-27cd-428a-d728-18a5f1efb2f5"
      },
      "execution_count": null,
      "outputs": [
        {
          "output_type": "stream",
          "name": "stdout",
          "text": [
            "Olá Mundo!\n"
          ]
        }
      ]
    },
    {
      "cell_type": "code",
      "source": [
        "# Tipo de uma string.\n",
        "print( type( String ) )"
      ],
      "metadata": {
        "colab": {
          "base_uri": "https://localhost:8080/"
        },
        "id": "l2XleyM_XBOI",
        "outputId": "289ba48b-2a40-4135-948b-1a8ab4d7c9f5"
      },
      "execution_count": null,
      "outputs": [
        {
          "output_type": "stream",
          "name": "stdout",
          "text": [
            "<class 'str'>\n"
          ]
        }
      ]
    },
    {
      "cell_type": "code",
      "source": [
        "# Tamanho de uma string.\n",
        "print( len( String ) )"
      ],
      "metadata": {
        "colab": {
          "base_uri": "https://localhost:8080/"
        },
        "id": "TkxfZn6tXC5Y",
        "outputId": "bbb1c544-1f1d-425e-bc66-38d02c68a994"
      },
      "execution_count": null,
      "outputs": [
        {
          "output_type": "stream",
          "name": "stdout",
          "text": [
            "10\n"
          ]
        }
      ]
    },
    {
      "cell_type": "code",
      "source": [
        "# Concatenação\n",
        "print( String + ' Estou aprendendo Python...' )"
      ],
      "metadata": {
        "colab": {
          "base_uri": "https://localhost:8080/"
        },
        "id": "pN8Ix_vGXI8T",
        "outputId": "642f4941-4b65-4a9e-95e3-10e686f1855a"
      },
      "execution_count": null,
      "outputs": [
        {
          "output_type": "stream",
          "name": "stdout",
          "text": [
            "Olá Mundo! Estou aprendendo Python...\n"
          ]
        }
      ]
    },
    {
      "cell_type": "code",
      "source": [
        "# 1. Replace\n",
        "# Substitui uma substring por alguma outra coisa.\n",
        "Substituir = String.replace('Mundo', 'Mundo Louco :)')\n",
        "print( Substituir )"
      ],
      "metadata": {
        "colab": {
          "base_uri": "https://localhost:8080/"
        },
        "id": "sF0HlOD7XTlY",
        "outputId": "5e4aeb4c-65f9-4ae8-97ec-6a334ba76538"
      },
      "execution_count": null,
      "outputs": [
        {
          "output_type": "stream",
          "name": "stdout",
          "text": [
            "Olá Mundo Louco :)!\n"
          ]
        }
      ]
    },
    {
      "cell_type": "code",
      "source": [
        "# 2. Startswith\n",
        "# A string começa com \"Olá\"?\n",
        "print( String.startswith('Olá') )"
      ],
      "metadata": {
        "colab": {
          "base_uri": "https://localhost:8080/"
        },
        "id": "bAjm3ox9XWO5",
        "outputId": "657b6ba8-8b25-42ab-b31f-5238db706e68"
      },
      "execution_count": null,
      "outputs": [
        {
          "output_type": "stream",
          "name": "stdout",
          "text": [
            "True\n"
          ]
        }
      ]
    },
    {
      "cell_type": "code",
      "source": [
        "# 3. Endswith\n",
        "# A string termina com \"Mundo\"?\n",
        "print( String.endswith('Mundo') )"
      ],
      "metadata": {
        "colab": {
          "base_uri": "https://localhost:8080/"
        },
        "id": "Wru_rnSKXZMK",
        "outputId": "64c00a05-0fbf-4ca7-83a2-b3945db53c8b"
      },
      "execution_count": null,
      "outputs": [
        {
          "output_type": "stream",
          "name": "stdout",
          "text": [
            "False\n"
          ]
        }
      ]
    },
    {
      "cell_type": "code",
      "source": [
        "# 4. Count\n",
        "# Quantas ocorrências da palavra \"a\" a string possui?\n",
        "print( String.count('M') )"
      ],
      "metadata": {
        "colab": {
          "base_uri": "https://localhost:8080/"
        },
        "id": "0di3MgZ7XfM-",
        "outputId": "4773d04f-0e5a-4c5d-a027-650019b11c6c"
      },
      "execution_count": null,
      "outputs": [
        {
          "output_type": "stream",
          "name": "stdout",
          "text": [
            "1\n"
          ]
        }
      ]
    },
    {
      "cell_type": "code",
      "source": [
        "# 5. Capitalize\n",
        "# Capitalize - Transformar a primeira letra da primeira palavra em maiúscula.\n",
        "String_02 = 'Alex Oliveira'\n",
        "print( String_02.capitalize() )"
      ],
      "metadata": {
        "colab": {
          "base_uri": "https://localhost:8080/"
        },
        "id": "tJ51iVNjXhD-",
        "outputId": "b043378c-b51c-45bf-be1f-79a766e64615"
      },
      "execution_count": null,
      "outputs": [
        {
          "output_type": "stream",
          "name": "stdout",
          "text": [
            "Alex oliveira\n"
          ]
        }
      ]
    },
    {
      "cell_type": "code",
      "source": [
        "# 6. Isdigit\n",
        "# Verificar se uma string só possui números.\n",
        "String_03 = '123456789'\n",
        "String_04 = '123456789ABC'\n",
        "print( String_03.isdigit() )\n",
        "print( String_04.isdigit() )"
      ],
      "metadata": {
        "colab": {
          "base_uri": "https://localhost:8080/"
        },
        "id": "Er-LU2EoXsUk",
        "outputId": "d36709ae-6219-49e7-a3c5-a31f5a079219"
      },
      "execution_count": null,
      "outputs": [
        {
          "output_type": "stream",
          "name": "stdout",
          "text": [
            "True\n",
            "False\n"
          ]
        }
      ]
    },
    {
      "cell_type": "code",
      "source": [
        "# 7. Isalnum\n",
        "# Verificar se uma string é alfanumérica (possui apenas letras e números).\n",
        "print( '12345abc'.isalnum() )"
      ],
      "metadata": {
        "colab": {
          "base_uri": "https://localhost:8080/"
        },
        "id": "V0CW9m18X-al",
        "outputId": "f0e63120-0bf7-4464-9be6-f3dfaa1f733f"
      },
      "execution_count": null,
      "outputs": [
        {
          "output_type": "stream",
          "name": "stdout",
          "text": [
            "True\n"
          ]
        }
      ]
    },
    {
      "cell_type": "code",
      "source": [
        "# 8. Uper\n",
        "# Transformar tudo em Maiusculo\n",
        "print( String.upper() )"
      ],
      "metadata": {
        "colab": {
          "base_uri": "https://localhost:8080/"
        },
        "id": "9JNjodRaX_NT",
        "outputId": "38a7d3dd-e13f-458b-c3b8-41c518ce410f"
      },
      "execution_count": null,
      "outputs": [
        {
          "output_type": "stream",
          "name": "stdout",
          "text": [
            "OLÁ MUNDO!\n"
          ]
        }
      ]
    },
    {
      "cell_type": "code",
      "source": [
        "# 9. Lower\n",
        "# Transformar tudo em Minúsculo\n",
        "print( String.lower() )"
      ],
      "metadata": {
        "colab": {
          "base_uri": "https://localhost:8080/"
        },
        "id": "XI0a9TZmYBmk",
        "outputId": "111f7a69-fa3f-4b72-ff59-5779d84481a4"
      },
      "execution_count": null,
      "outputs": [
        {
          "output_type": "stream",
          "name": "stdout",
          "text": [
            "olá mundo!\n"
          ]
        }
      ]
    },
    {
      "cell_type": "code",
      "source": [
        "# 10. Find\n",
        "# Procurar algo na string\n",
        "print( String.find('!') )"
      ],
      "metadata": {
        "colab": {
          "base_uri": "https://localhost:8080/"
        },
        "id": "2Aac4-x2YEuO",
        "outputId": "ca245661-a03d-42c9-b29f-d5adb0e42f37"
      },
      "execution_count": null,
      "outputs": [
        {
          "output_type": "stream",
          "name": "stdout",
          "text": [
            "9\n"
          ]
        }
      ]
    },
    {
      "cell_type": "code",
      "source": [
        "# 11. Strip\n",
        "# Removendo espaçoes antes e fim da palavra\n",
        "String_05 =' Olá Mundo! '\n",
        "print( String_05.strip() )"
      ],
      "metadata": {
        "colab": {
          "base_uri": "https://localhost:8080/"
        },
        "id": "YBCQlEQsYKMg",
        "outputId": "032a0638-ef38-45ba-b75e-246ad242551a"
      },
      "execution_count": null,
      "outputs": [
        {
          "output_type": "stream",
          "name": "stdout",
          "text": [
            "Olá Mundo!\n"
          ]
        }
      ]
    },
    {
      "cell_type": "code",
      "source": [
        "# 12. Split\n",
        "# Quebra de uma cadeia de texto, utilizando um separador existente no proprio texto. \n",
        "String_06 ='Loja 1 vendou 10, Loja 2 vendou 20, Loja 3 vendou 30 '\n",
        "print( String_06.split(',') )"
      ],
      "metadata": {
        "colab": {
          "base_uri": "https://localhost:8080/"
        },
        "id": "P9feUU3cYM1K",
        "outputId": "48c987b9-39e8-4412-952e-d5fb5f50404c"
      },
      "execution_count": null,
      "outputs": [
        {
          "output_type": "stream",
          "name": "stdout",
          "text": [
            "['Loja 1 vendou 10', ' Loja 2 vendou 20', ' Loja 3 vendou 30 ']\n"
          ]
        }
      ]
    },
    {
      "cell_type": "markdown",
      "source": [
        "# **11. Comando Input**\n",
        "A função input() recebe como parâmetro uma string que será mostrada como auxílio ao usuário, geralmente o informando que tipo de dado o programa está aguardando receber.\n",
        "\n",
        "input()"
      ],
      "metadata": {
        "id": "8Rdc9ExawSIu"
      }
    },
    {
      "cell_type": "code",
      "source": [
        "# Comando input\n",
        "# Enviar uma informação momentânea\n",
        "\n",
        "Nome = input('Qual seu nome? ')\n",
        "Idade = input('Quantos anos você tem? ')\n",
        "\n",
        "print('Seu nome é:', Nome)\n",
        "print('Sua idade:', Idade)"
      ],
      "metadata": {
        "colab": {
          "base_uri": "https://localhost:8080/"
        },
        "id": "NosowpR7XRPv",
        "outputId": "26d5305d-2452-4534-bfdd-e43dc0805cfd"
      },
      "execution_count": null,
      "outputs": [
        {
          "output_type": "stream",
          "name": "stdout",
          "text": [
            "Qual seu nome? Alex\n",
            "Quantos anos você tem? 42\n",
            "Seu nome é: Alex\n",
            "Sua idade: 42\n"
          ]
        }
      ]
    },
    {
      "cell_type": "markdown",
      "source": [
        "# **12. Operadores de Comparação**\n",
        "Os operadores de comparação são usados ​​para comparar dois valores:\n",
        "1. '==' ( Igual a )\n",
        "2. '!=' ( Diferente )\n",
        "3. '>' ( Maior )\n",
        "4. '<' ( Menor )\n",
        "5. '>=' ( Maior igual )\n",
        "6. '<=' ( Menor igual )"
      ],
      "metadata": {
        "id": "PWvFL-8Owzrr"
      }
    },
    {
      "cell_type": "code",
      "source": [
        "# Operadores de Comparações\n",
        "Igual = '=='\n",
        "Diferente = '!='\n",
        "Maior = '>'\n",
        "Maior_Igual = '>='\n",
        "Menor = '<'\n",
        "Menor_Igual = '<='\n",
        "\n",
        "print('8 é maior que 7:', 8 > 7 )\n",
        "print('8 é menor que 7:', 8 < 7 )\n",
        "print('8 é igual 7:', 8 == 7 )\n",
        "print('8 é diferente de 7:', 8 != 7 )\n",
        "print('10 é maior 10:', 10 > 10 )\n",
        "print('10 é maior ou igual à 10:', 10 >= 10 )\n",
        "print('10 é menor 10:', 10 < 10 )\n",
        "print('10 é menor ou igual à 10:', 10 <= 10 )"
      ],
      "metadata": {
        "colab": {
          "base_uri": "https://localhost:8080/"
        },
        "id": "rdit_4UHW_o_",
        "outputId": "c48f6f47-8637-4c8b-8e32-d0879f9775ac"
      },
      "execution_count": null,
      "outputs": [
        {
          "output_type": "stream",
          "name": "stdout",
          "text": [
            "8 é maior que 7: True\n",
            "8 é menor que 7: False\n",
            "8 é igual 7: False\n",
            "8 é diferente de 7: True\n",
            "10 é maior 10: False\n",
            "10 é maior ou igual à 10: True\n",
            "10 é menor 10: False\n",
            "10 é menor ou igual à 10: True\n"
          ]
        }
      ]
    },
    {
      "cell_type": "markdown",
      "source": [
        "# **13. Operadores Lógicos**\n",
        "Os operadores lógicos são usados ​​para combinar instruções condicionais:\n",
        "1. and (Retorna True se ambas as declarações forem verdadeiras)\n",
        "2. or (Retorna True se uma das declarações for verdadeira)\n",
        "3. not (Inverte o resultado, retorna True se o resultado com a negação for verdadeiro)"
      ],
      "metadata": {
        "id": "TELbd3J7xR7R"
      }
    },
    {
      "cell_type": "code",
      "source": [
        "# Operadores Lógicos\n",
        "And = 'and'\n",
        "Ou = 'or'\n",
        "Negação = 'not'\n",
        "\n",
        "print('8 é maior que 7 e 7 maior que 8:', 8 > 7 and 7 > 8 )\n",
        "print('8 é maior que 7 e 7 menor que 8:', 8 > 7 and 7 < 8 )\n",
        "print('8 é maior que 7 e a negação de 7 menor que 8:', 8 > 7 and not 7 < 8 )\n",
        "print('8 é maior que 7 e a negação de 7 maior que 8:', 8 > 7 and not 7 > 8 )\n",
        "print('8 é igual a 7 ou 7 é igual a 8:', 8 == 7 or 7 == 8 )\n",
        "print('8 é maior que 7 ou 7 menor que 8:', 8 > 7 or 7 > 8 )\n",
        "print('8 é igual a 7 ou a negação de 7 é igual a 8:', 8 == 7 or not 7 == 8 )\n",
        "print('8 é maior que 7 ou a negação de 7 menor que 8:', 8 > 7 or not 7 > 8 )"
      ],
      "metadata": {
        "colab": {
          "base_uri": "https://localhost:8080/"
        },
        "id": "7NYW7ed7hteR",
        "outputId": "4cbff68c-fad5-4285-8626-14b6105b473e"
      },
      "execution_count": null,
      "outputs": [
        {
          "output_type": "stream",
          "name": "stdout",
          "text": [
            "8 é maior que 7 e 7 maior que 8: False\n",
            "8 é maior que 7 e 7 menor que 8: True\n",
            "8 é maior que 7 e a negação de 7 menor que 8: False\n",
            "8 é maior que 7 e a negação de 7 maior que 8: True\n",
            "8 é igual a 7 ou 7 é igual a 8: False\n",
            "8 é maior que 7 ou 7 menor que 8: True\n",
            "8 é igual a 7 ou a negação de 7 é igual a 8: True\n",
            "8 é maior que 7 ou a negação de 7 menor que 8: True\n"
          ]
        }
      ]
    },
    {
      "cell_type": "markdown",
      "source": [
        "# **14. Operadores de Identidade**\n",
        "Os operadores de identidade são usados ​​para comparar os objetos, não se forem iguais, mas se forem realmente o mesmo objeto, com a mesma localização de memória:\n",
        "1. is (Retorna True se ambas as variáveis ​​forem o mesmo objeto)\n",
        "2. is not (Retorna True se ambas as variáveis ​​não forem o mesmo objeto)"
      ],
      "metadata": {
        "id": "mDYfsOuQ6js8"
      }
    },
    {
      "cell_type": "code",
      "source": [
        "String_01 = str('Olá Mundão')\n",
        "String_02 = str('Olá Mundão')\n",
        "\n",
        "print( String_01 is String_01 )\n",
        "print( String_01 is String_02 )\n",
        "print( String_01 == String_02 )\n",
        "print( type(String_01) is type(String_02) )"
      ],
      "metadata": {
        "colab": {
          "base_uri": "https://localhost:8080/"
        },
        "id": "B5wV01Rp9ULh",
        "outputId": "3fa33f5f-c2b3-4e35-c6e3-3c0a72ab40bf"
      },
      "execution_count": null,
      "outputs": [
        {
          "output_type": "stream",
          "name": "stdout",
          "text": [
            "True\n",
            "False\n",
            "True\n",
            "True\n"
          ]
        }
      ]
    },
    {
      "cell_type": "markdown",
      "source": [
        "# **15. Operadores de Associação**\n",
        "Os operadores de associação são usados ​​para testar se uma sequência é apresentada em um objeto:\n",
        "1. in (Retorna True se uma sequência com o valor especificado estiver presente no objeto)\n",
        "2. not in (Retorna True se uma sequência com o valor especificado não estiver presente no objeto)"
      ],
      "metadata": {
        "id": "RpVM6BS29px8"
      }
    },
    {
      "cell_type": "code",
      "source": [
        "Lista_Ações = ['Magalu', 'Via', 'Assai', 'Carrefour']\n",
        "\n",
        "print( 'Via' in Lista_Ações )\n",
        "print( 'Via' not in Lista_Ações )"
      ],
      "metadata": {
        "colab": {
          "base_uri": "https://localhost:8080/"
        },
        "id": "-JXCeMc09qTN",
        "outputId": "4352d1b6-2e01-4ef5-c669-b73dc268f218"
      },
      "execution_count": null,
      "outputs": [
        {
          "output_type": "stream",
          "name": "stdout",
          "text": [
            "True\n",
            "False\n"
          ]
        }
      ]
    },
    {
      "cell_type": "markdown",
      "source": [
        "# **16. Manipulando Listas**\n",
        "As listas são usadas para armazenar vários itens em uma única variável.\n",
        "\n",
        "As listas são um dos 4 tipos de dados internos do Python usados ​​para armazenar coleções de dados, os outros 3 são Tuple , Set e Dictionary , todos com qualidades e usos diferentes.<p>\n",
        "Comandos mais utilizados:\n",
        "1. append() - Para adicionar um item ao final da lista\n",
        "2. len() - Calcular o tamanho da lista\n",
        "3. [  ] - Acessar posições\n",
        "4. del() - Exlcuir um elemtno\n",
        "5. clear() - Limpar a lista\n",
        "6. insert() - Para inserir um item de lista em um índice especificado\n",
        "7. extend() - Anexar elementos de outra lista à lista atual\n",
        "8. remove() - Remove o item especificado\n",
        "9. pop() - Remove o índice especificado.\n",
        "10. sort() - Ordenar os valores\n",
        "11. copy() - Faz uma copia da Lista\n",
        "12. index() - Retorna o index do elemento da lista"
      ],
      "metadata": {
        "id": "Z7iU6tRA-SHF"
      }
    },
    {
      "cell_type": "code",
      "source": [
        "# Listas vazias - inicia na posição zero\n",
        "# Manipulando dados dentro das Lista\n",
        "Lista_Vazia = []\n",
        "print('Lista antes:', Lista_Vazia )"
      ],
      "metadata": {
        "colab": {
          "base_uri": "https://localhost:8080/"
        },
        "id": "YfhK-CCe-Q8N",
        "outputId": "e54d7146-6359-4448-ffe0-aa8ddd6a19a5"
      },
      "execution_count": null,
      "outputs": [
        {
          "output_type": "stream",
          "name": "stdout",
          "text": [
            "Lista antes: []\n"
          ]
        }
      ]
    },
    {
      "cell_type": "code",
      "source": [
        "# 1. Append\n",
        "# Inserindo valores na Lista\n",
        "Lista_Vazia.append(1)\n",
        "Lista_Vazia.append(2)\n",
        "Lista_Vazia.append(3)\n",
        "print('Lista Depois:', Lista_Vazia )"
      ],
      "metadata": {
        "colab": {
          "base_uri": "https://localhost:8080/"
        },
        "id": "pEBCP2c7-ohp",
        "outputId": "cb5a8c77-52e8-4882-8a73-7b7f8da927bc"
      },
      "execution_count": null,
      "outputs": [
        {
          "output_type": "stream",
          "name": "stdout",
          "text": [
            "Lista Depois: [1, 2, 3]\n"
          ]
        }
      ]
    },
    {
      "cell_type": "code",
      "source": [
        "# 2. Len\n",
        "# Tamanho da lista\n",
        "print('Lista contém:', len(Lista_Vazia), 'elementos' )"
      ],
      "metadata": {
        "colab": {
          "base_uri": "https://localhost:8080/"
        },
        "id": "1gJcbdv4-ok4",
        "outputId": "bc0c4fcc-bb0a-4403-852b-fbdfe61b6449"
      },
      "execution_count": null,
      "outputs": [
        {
          "output_type": "stream",
          "name": "stdout",
          "text": [
            "Lista contém: 3 elementos\n"
          ]
        }
      ]
    },
    {
      "cell_type": "code",
      "source": [
        "# 3. Acessar posição\n",
        "# Tamanho da lista\n",
        "print('Acessando o 1º Elemento:', Lista_Vazia[0] )\n",
        "print('Acessando o 2º Elemento:', Lista_Vazia[1] )\n",
        "print('Acessando o último Elemento:', Lista_Vazia[-1] )\n",
        "print('Acessando um periodo:', Lista_Vazia[0:2] )"
      ],
      "metadata": {
        "colab": {
          "base_uri": "https://localhost:8080/"
        },
        "id": "OM53FgDR-onw",
        "outputId": "df3e439a-2cb0-43f6-c030-055673c3b762"
      },
      "execution_count": null,
      "outputs": [
        {
          "output_type": "stream",
          "name": "stdout",
          "text": [
            "Acessando o 1º Elemento: 1\n",
            "Acessando o 2º Elemento: 2\n",
            "Acessando o último Elemento: 3\n",
            "Acessando um periodo: [1, 2]\n"
          ]
        }
      ]
    },
    {
      "cell_type": "code",
      "source": [
        "# 4. Del\n",
        "# Excluindo valor na lista\n",
        "del Lista_Vazia[1]\n",
        "print('Depois da exclusão:', Lista_Vazia )"
      ],
      "metadata": {
        "colab": {
          "base_uri": "https://localhost:8080/"
        },
        "id": "juoTg_Bu-oqw",
        "outputId": "cbef9e48-e93a-4b0a-d5b2-0ac0262cbdbb"
      },
      "execution_count": null,
      "outputs": [
        {
          "output_type": "stream",
          "name": "stdout",
          "text": [
            "Depois da exclusão: [1, 3]\n"
          ]
        }
      ]
    },
    {
      "cell_type": "code",
      "source": [
        "# 5. Clear\n",
        "# Limpando a lista\n",
        "print('Depois da Limpeza:', Lista_Vazia.clear() )"
      ],
      "metadata": {
        "colab": {
          "base_uri": "https://localhost:8080/"
        },
        "id": "6QxNAtBy-oto",
        "outputId": "a9c74b92-9fa0-49d9-dcf6-0219080d0131"
      },
      "execution_count": null,
      "outputs": [
        {
          "output_type": "stream",
          "name": "stdout",
          "text": [
            "Depois da Limpeza: None\n"
          ]
        }
      ]
    },
    {
      "cell_type": "code",
      "source": [
        "# 6. Insert\n",
        "# Inserindo um valor com uma posição\n",
        "Lista_Inserir = ['Posição 1', 'Posição 2', 'Posição 3']\n",
        "Lista_Inserir.insert( 0, 'Posição 4' )\n",
        "print( Lista_Inserir )"
      ],
      "metadata": {
        "colab": {
          "base_uri": "https://localhost:8080/"
        },
        "id": "7ho2DnUICPRA",
        "outputId": "504cde7d-20a6-43d0-f8b1-10373a716035"
      },
      "execution_count": null,
      "outputs": [
        {
          "output_type": "stream",
          "name": "stdout",
          "text": [
            "['Posição 4', 'Posição 1', 'Posição 2', 'Posição 3']\n"
          ]
        }
      ]
    },
    {
      "cell_type": "code",
      "source": [
        "# 7. Extend\n",
        "# Inserindo uma lista na outra\n",
        "Lista_Inserir_01 = ['Posição 1', 'Posição 2', 'Posição 3']\n",
        "Lista_Inserir_02 = ['Posição 4', 'Posição 5', 'Posição 6']\n",
        "Lista_Inserir_01.extend( Lista_Inserir_02 )\n",
        "print( Lista_Inserir_01 )"
      ],
      "metadata": {
        "colab": {
          "base_uri": "https://localhost:8080/"
        },
        "id": "ae35X6j9CPUv",
        "outputId": "54eccc2f-87a9-4b0e-86fc-7f7d4607be2c"
      },
      "execution_count": null,
      "outputs": [
        {
          "output_type": "stream",
          "name": "stdout",
          "text": [
            "['Posição 1', 'Posição 2', 'Posição 3', 'Posição 4', 'Posição 5', 'Posição 6']\n"
          ]
        }
      ]
    },
    {
      "cell_type": "code",
      "source": [
        "# 8. Remove\n",
        "# Removendo itens especifico pelo nome\n",
        "Lista_Inserir_01.remove('Posição 6')\n",
        "print( Lista_Inserir_01 )"
      ],
      "metadata": {
        "colab": {
          "base_uri": "https://localhost:8080/"
        },
        "id": "eeSBhYDnCPX3",
        "outputId": "691de494-657c-48ca-e6a0-ba4c4724efd5"
      },
      "execution_count": null,
      "outputs": [
        {
          "output_type": "stream",
          "name": "stdout",
          "text": [
            "['Posição 1', 'Posição 2', 'Posição 3', 'Posição 4', 'Posição 5']\n"
          ]
        }
      ]
    },
    {
      "cell_type": "code",
      "source": [
        "# 9. Pop\n",
        "# Removendo itens pelo index\n",
        "Lista_Inserir_01.pop(0)\n",
        "print( Lista_Inserir_01 )"
      ],
      "metadata": {
        "colab": {
          "base_uri": "https://localhost:8080/"
        },
        "id": "0WMHW1Z3CPbB",
        "outputId": "cf3184bd-8860-4661-89c3-6dd426dd8b2f"
      },
      "execution_count": null,
      "outputs": [
        {
          "output_type": "stream",
          "name": "stdout",
          "text": [
            "['Posição 2', 'Posição 3', 'Posição 4', 'Posição 5']\n"
          ]
        }
      ]
    },
    {
      "cell_type": "code",
      "source": [
        "# 10. Sort\n",
        "# Ordenar uma lista\n",
        "Lista_Alfabetica = ['Z', 'C', 'A', 'B', 'L']\n",
        "Lista_Alfabetica.sort()\n",
        "print( Lista_Alfabetica, '\\n' )\n",
        "\n",
        "# Ordenar uma lista de forma inversa\n",
        "Lista_Alfabetica.sort( reverse=True )\n",
        "print( Lista_Alfabetica )"
      ],
      "metadata": {
        "colab": {
          "base_uri": "https://localhost:8080/"
        },
        "id": "owij0ZdQCPeR",
        "outputId": "1f0700de-2b6d-4140-ee19-2bb4d14f98ca"
      },
      "execution_count": null,
      "outputs": [
        {
          "output_type": "stream",
          "name": "stdout",
          "text": [
            "['A', 'B', 'C', 'L', 'Z'] \n",
            "\n",
            "['Z', 'L', 'C', 'B', 'A']\n"
          ]
        }
      ]
    },
    {
      "cell_type": "code",
      "source": [
        "# 11. Copy\n",
        "# Copiar uma Lista\n",
        "Lista_Alfabetica_02 = Lista_Alfabetica.copy()\n",
        "print( Lista_Alfabetica_02 )"
      ],
      "metadata": {
        "colab": {
          "base_uri": "https://localhost:8080/"
        },
        "id": "PRXHLKDdCPhX",
        "outputId": "f5d20f8b-efb2-461f-88b2-fe4dc6728890"
      },
      "execution_count": null,
      "outputs": [
        {
          "output_type": "stream",
          "name": "stdout",
          "text": [
            "['Z', 'L', 'C', 'B', 'A']\n"
          ]
        }
      ]
    },
    {
      "cell_type": "code",
      "source": [
        "# 12. Index\n",
        "# Indetificar o Index do elemtno na lista\n",
        "print( Lista_Alfabetica_02.index('L') )"
      ],
      "metadata": {
        "colab": {
          "base_uri": "https://localhost:8080/"
        },
        "id": "2K4Ld2NuCPjg",
        "outputId": "bf62f107-3594-4d99-9043-5963e6836ff7"
      },
      "execution_count": null,
      "outputs": [
        {
          "output_type": "stream",
          "name": "stdout",
          "text": [
            "1\n"
          ]
        }
      ]
    },
    {
      "cell_type": "markdown",
      "source": [
        "# **17. Pacote Externo - Datetime**\n",
        "O datetime é uma biblioteca que fornece classes para manipulação de datas e horas.\n"
      ],
      "metadata": {
        "id": "L1WRycOO-THe"
      }
    },
    {
      "cell_type": "code",
      "source": [
        "import datetime\n",
        "\n",
        "# Dia de Hoje\n",
        "Dia_Hoje = datetime.datetime.today().date()\n",
        "print( f'Hoje é: {Dia_Hoje}' )"
      ],
      "metadata": {
        "colab": {
          "base_uri": "https://localhost:8080/"
        },
        "id": "KrBxDxhN-Q_F",
        "outputId": "c91cbb31-01ba-4d9c-b9a9-51520a5cb098"
      },
      "execution_count": null,
      "outputs": [
        {
          "output_type": "stream",
          "name": "stdout",
          "text": [
            "Hoje é: 2022-07-23 \n",
            "\n"
          ]
        }
      ]
    },
    {
      "cell_type": "code",
      "source": [
        "# Construindo uma Data\n",
        "Data = datetime.date(2020, 10, 1)\n",
        "print( f'Construindo uma Data {Data}' )"
      ],
      "metadata": {
        "colab": {
          "base_uri": "https://localhost:8080/"
        },
        "id": "iE5z5XNEEesF",
        "outputId": "e0e64025-62bb-4a69-b0c9-bf844a1bd8ba"
      },
      "execution_count": null,
      "outputs": [
        {
          "output_type": "stream",
          "name": "stdout",
          "text": [
            "Construindo uma Data 2020-10-01 \n",
            "\n"
          ]
        }
      ]
    },
    {
      "cell_type": "code",
      "source": [
        "# Acessando os atributos da Data\n",
        "Ano = Data.year\n",
        "Mes = Data.month\n",
        "Dia = Data.day\n",
        "print(f'Hoje é dia {Dia} do mês {Mes} do ano de {Ano}' )"
      ],
      "metadata": {
        "colab": {
          "base_uri": "https://localhost:8080/"
        },
        "id": "zPkUlqnVEexH",
        "outputId": "254811c1-5072-4f8b-b6ec-ada0fdea2e12"
      },
      "execution_count": null,
      "outputs": [
        {
          "output_type": "stream",
          "name": "stdout",
          "text": [
            "Hoje é dia 1 do mês 10 do ano de 2020\n"
          ]
        }
      ]
    },
    {
      "cell_type": "code",
      "source": [
        "# Operação\n",
        "Intervalo = Data - Dia_Hoje\n",
        "print(f'Já ocorreu {Intervalo} dias' )"
      ],
      "metadata": {
        "colab": {
          "base_uri": "https://localhost:8080/"
        },
        "id": "XKcVEBdZEe1I",
        "outputId": "339ae8bb-a923-4655-dab1-6880ecd8b595"
      },
      "execution_count": null,
      "outputs": [
        {
          "output_type": "stream",
          "name": "stdout",
          "text": [
            "Já ocorreu -660 days, 0:00:00 dias\n"
          ]
        }
      ]
    },
    {
      "cell_type": "code",
      "source": [
        "# Ajustando o formato\n",
        "Novo_Formato = Dia_Hoje.strftime('%d/%m/%y')\n",
        "print( f'Hoje é: {Novo_Formato}' )"
      ],
      "metadata": {
        "colab": {
          "base_uri": "https://localhost:8080/"
        },
        "id": "cz18HnYwEe4g",
        "outputId": "69c883a9-2157-49ed-b19e-315cee7550a8"
      },
      "execution_count": null,
      "outputs": [
        {
          "output_type": "stream",
          "name": "stdout",
          "text": [
            "Hoje é: 23/07/22\n"
          ]
        }
      ]
    },
    {
      "cell_type": "code",
      "source": [
        "# Aumentar dias ou diminuir\n",
        "print( f'Somando 30 dias, {Dia_Hoje + datetime.timedelta(days = 30)}' )\n",
        "print( f'Diminuindo 30 dias, {Dia_Hoje - datetime.timedelta(days = 30)}' )"
      ],
      "metadata": {
        "colab": {
          "base_uri": "https://localhost:8080/"
        },
        "id": "iH3stWPTEqz2",
        "outputId": "d2fb31f1-f058-44a7-a23f-93d980889cc5"
      },
      "execution_count": null,
      "outputs": [
        {
          "output_type": "stream",
          "name": "stdout",
          "text": [
            "Somando 30 dias, 2022-08-22\n",
            "Diminuindo 30 dias, 2022-06-23\n"
          ]
        }
      ]
    },
    {
      "cell_type": "markdown",
      "source": [
        "# **18. Pacote Externo - Time**\n",
        "Esta biblioteca fornece várias funções relacionadas ao tempo."
      ],
      "metadata": {
        "id": "aTh9XgEFfMHL"
      }
    },
    {
      "cell_type": "code",
      "source": [
        "# Importar a Lib\n",
        "import time\n",
        "\n",
        "print('Esse print foi rápido!')\n",
        "time.sleep(2.5)\n",
        "print('Esse print aconteceu depois de 2.5 segundos \\n')\n",
        "\n",
        "# Capturar o local agora\n",
        "Agora = time.localtime()\n",
        "print( type(Agora) )\n",
        "print( Agora )\n",
        "print( time.strftime('%m/%d/%Y, %H:%M:%S', Agora ), '\\n' )\n",
        "\n",
        "# Converter uma string para time\n",
        "Time_Texto = '21 June, 2018'\n",
        "Conversao = time.strptime(Time_Texto, '%d %B, %Y')\n",
        "print(Conversao)"
      ],
      "metadata": {
        "colab": {
          "base_uri": "https://localhost:8080/"
        },
        "id": "qLvRROiHfMUl",
        "outputId": "6862e016-a3d8-4e8a-bda6-c6078f995658"
      },
      "execution_count": null,
      "outputs": [
        {
          "output_type": "stream",
          "name": "stdout",
          "text": [
            "Esse print foi rápido!\n",
            "Esse print aconteceu depois de 2.5 segundos \n",
            "\n",
            "<class 'time.struct_time'>\n",
            "time.struct_time(tm_year=2022, tm_mon=7, tm_mday=23, tm_hour=23, tm_min=57, tm_sec=22, tm_wday=5, tm_yday=204, tm_isdst=0)\n",
            "07/23/2022, 23:57:22 \n",
            "\n",
            "time.struct_time(tm_year=2018, tm_mon=6, tm_mday=21, tm_hour=0, tm_min=0, tm_sec=0, tm_wday=3, tm_yday=172, tm_isdst=-1)\n"
          ]
        }
      ]
    },
    {
      "cell_type": "markdown",
      "source": [
        "# **19. Pacote Externo - Math**\n",
        "O Python possui um conjunto de funções matemáticas integradas. Com esta biblioteca temos um extensa possibilidades de calculos matemáticos."
      ],
      "metadata": {
        "id": "HoLJFVcMGGYg"
      }
    },
    {
      "cell_type": "markdown",
      "source": [
        "**** Sem necessidade do math***"
      ],
      "metadata": {
        "id": "2sX3dmr6Hhqg"
      }
    },
    {
      "cell_type": "code",
      "source": [
        "# Mínimo e Máximo\n",
        "Tupla = (10, 15, 5, 8, 20)\n",
        "print( min(Tupla) )\n",
        "print( max(Tupla) )"
      ],
      "metadata": {
        "colab": {
          "base_uri": "https://localhost:8080/"
        },
        "id": "KZfcwW1sG-Zg",
        "outputId": "6da9c4a1-2aaf-4ada-e52f-31a7b1774b9b"
      },
      "execution_count": 264,
      "outputs": [
        {
          "output_type": "stream",
          "name": "stdout",
          "text": [
            "5\n",
            "20\n"
          ]
        }
      ]
    },
    {
      "cell_type": "code",
      "source": [
        "# ABS  retorna o valor absoluto (positivo) do número especificado\n",
        "print( abs(-7.25) )"
      ],
      "metadata": {
        "colab": {
          "base_uri": "https://localhost:8080/"
        },
        "id": "HPw0PLnQG-dH",
        "outputId": "112fc1a0-4690-4c78-9091-9e08abe05f54"
      },
      "execution_count": 265,
      "outputs": [
        {
          "output_type": "stream",
          "name": "stdout",
          "text": [
            "7.25\n"
          ]
        }
      ]
    },
    {
      "cell_type": "code",
      "source": [
        "# Retorna a potência (seria o mesmo que 3 * 3 * 3 * 3)\n",
        "print( pow(3, 4) )"
      ],
      "metadata": {
        "colab": {
          "base_uri": "https://localhost:8080/"
        },
        "id": "LkCVr2LRG-gI",
        "outputId": "6e7207ac-3b1e-45df-89ef-36c6c662a53a"
      },
      "execution_count": 269,
      "outputs": [
        {
          "output_type": "stream",
          "name": "stdout",
          "text": [
            "81\n"
          ]
        }
      ]
    },
    {
      "cell_type": "markdown",
      "source": [
        "**** Com pacote externo math***"
      ],
      "metadata": {
        "id": "ytkHzfxwH0zw"
      }
    },
    {
      "cell_type": "code",
      "source": [
        "import math\n",
        "\n",
        "# Raiz quadrada\n",
        "Raiz_Quadrada = math.sqrt( 81 )\n",
        "print( Raiz_Quadrada )"
      ],
      "metadata": {
        "colab": {
          "base_uri": "https://localhost:8080/"
        },
        "id": "zFGClMzBG-jX",
        "outputId": "fadacf17-6a82-4fcb-89bc-c719ffe45ff3"
      },
      "execution_count": 270,
      "outputs": [
        {
          "output_type": "stream",
          "name": "stdout",
          "text": [
            "9.0\n"
          ]
        }
      ]
    },
    {
      "cell_type": "code",
      "source": [
        "# Arredonda um número para cima até o número inteiro mais próximo\n",
        "print( math.ceil(1.4) )\n",
        "\n",
        "# Arredonda um número para baixo até o número inteiro mais próximo\n",
        "print( math.floor(1.4) )"
      ],
      "metadata": {
        "colab": {
          "base_uri": "https://localhost:8080/"
        },
        "id": "YvjYo0Q3G-mM",
        "outputId": "49b18667-64ce-4ec6-a829-4b8a795da014"
      },
      "execution_count": null,
      "outputs": [
        {
          "output_type": "stream",
          "name": "stdout",
          "text": [
            "2\n",
            "1\n"
          ]
        }
      ]
    },
    {
      "cell_type": "code",
      "source": [
        "# retorna o numero de PI\n",
        "print( math.pi )"
      ],
      "metadata": {
        "colab": {
          "base_uri": "https://localhost:8080/"
        },
        "id": "DDQ1e3g0G-pI",
        "outputId": "39659b11-ea10-44c9-b876-44b642d615e2"
      },
      "execution_count": null,
      "outputs": [
        {
          "output_type": "stream",
          "name": "stdout",
          "text": [
            "3.141592653589793\n"
          ]
        }
      ]
    },
    {
      "cell_type": "markdown",
      "source": [
        "# **20. Pacote Externo - Random**\n",
        "Esta biblioteca implementa geradores de números pseudo-aleatórios para várias distribuições."
      ],
      "metadata": {
        "id": "YURqnvW9ILmr"
      }
    },
    {
      "cell_type": "code",
      "source": [
        "import random\n",
        " \n",
        "# Lista numérica \n",
        "Lista_Numerica = [1, 2, 3, 4, 5, 6]\n",
        "print(f'O número sorteado foi: {random.choice(Lista_Numerica)}' )"
      ],
      "metadata": {
        "colab": {
          "base_uri": "https://localhost:8080/"
        },
        "id": "0LejYPKMG-sX",
        "outputId": "ed968c00-56ae-4202-f299-9901f34d2d90"
      },
      "execution_count": 271,
      "outputs": [
        {
          "output_type": "stream",
          "name": "stdout",
          "text": [
            "O número sorteado foi: 5\n"
          ]
        }
      ]
    },
    {
      "cell_type": "code",
      "source": [
        "# Sortear uma letra da palavra\n",
        "Palavra = 'Alex'\n",
        "print(f'A Letra sorteada foi: {random.choice(Palavra)}' )"
      ],
      "metadata": {
        "colab": {
          "base_uri": "https://localhost:8080/"
        },
        "id": "M6d4zopYG-vn",
        "outputId": "cce1f9c2-e9f4-4e19-ca0d-3937e9e1db6a"
      },
      "execution_count": null,
      "outputs": [
        {
          "output_type": "stream",
          "name": "stdout",
          "text": [
            "A Letra sorteada foi: l\n"
          ]
        }
      ]
    },
    {
      "cell_type": "code",
      "source": [
        "# Numero aleatorio entre 0 e 1\n",
        "Numero_Aleatorio = random.random()\n",
        "print(f'O Numero gerado foi: {Numero_Aleatorio} \\n')\n",
        "\n",
        "Numero_Aleatorio_01 = random.randint(0, 9)\n",
        "print(f'Número aleatorio entre 1 e 10 foi: {Numero_Aleatorio_01}')"
      ],
      "metadata": {
        "colab": {
          "base_uri": "https://localhost:8080/"
        },
        "id": "3u99EVU-IcS6",
        "outputId": "096aafc2-e97d-4c40-9cbc-f9f4d2b7e688"
      },
      "execution_count": null,
      "outputs": [
        {
          "output_type": "stream",
          "name": "stdout",
          "text": [
            "O Numero gerado foi: 0.2762042824623925 \n",
            "\n",
            "Número aleatorio entre 1 e 10 foi: 2\n"
          ]
        }
      ]
    },
    {
      "cell_type": "markdown",
      "source": [
        "# **21° Pacote Externo - Statistics**\n",
        "Esta biblioteca fornece funções para calculos estatísticos e interagem com as listas."
      ],
      "metadata": {
        "id": "vh8wcuzuKhbX"
      }
    },
    {
      "cell_type": "code",
      "source": [
        "# Importando a Statistics para operar nas listas\n",
        "import statistics\n",
        "\n",
        "# Retirando a média\n",
        "Media = statistics.mean( [1, 2, 3, 4, 4] )\n",
        "print(f'A media será: {Media} \\n')\n",
        "\n",
        "Mediana = statistics.median( [1, 2, 3, 4, 4] )\n",
        "print(f'A mediana será: {Mediana} \\n')\n",
        "\n",
        "Moda = statistics.mode( [1, 2, 3, 4, 4] )\n",
        "print(f'A moda será: {Moda}')"
      ],
      "metadata": {
        "colab": {
          "base_uri": "https://localhost:8080/"
        },
        "id": "qflfGoFPIcWZ",
        "outputId": "37444f8b-95d0-450d-fef0-cddf407e6516"
      },
      "execution_count": 282,
      "outputs": [
        {
          "output_type": "stream",
          "name": "stdout",
          "text": [
            "A media será: 2.8 \n",
            "\n",
            "A mediana será: 3 \n",
            "\n",
            "A moda será: 4\n"
          ]
        }
      ]
    },
    {
      "cell_type": "markdown",
      "source": [
        "# **22. Condição If**\n",
        "if é a declaração mais simples de tomada de decisão. <p>Ele é usado para decidir se uma determinada instrução ou bloco de instruções será executado ou não, ou seja, se uma determinada condição for verdadeira, um bloco de instruções será executado, caso contrário, não.\n",
        "\n",
        "if condição :<p>\n",
        "*   declarações a serem executadas se a condição for verdadeira"
      ],
      "metadata": {
        "id": "jautdmejOL5v"
      }
    },
    {
      "cell_type": "code",
      "source": [
        "# Condição se a pessoa tiver menor de 18 anos, ela nao esta no sistema.\n",
        "Idade = 10\n",
        "\n",
        "if Idade >= 18:\n",
        "  print('você é maior de idade!')"
      ],
      "metadata": {
        "id": "u44ElKgSIcZs"
      },
      "execution_count": null,
      "outputs": []
    },
    {
      "cell_type": "code",
      "source": [
        "# Condição IF + ELSE\n",
        "\n",
        "Idade = int( 15 )\n",
        "\n",
        "if Idade >= 18:\n",
        "  print('Você é de maior!')\n",
        "\n",
        "else:\n",
        "  print('Você é menor de Idade!!!')"
      ],
      "metadata": {
        "colab": {
          "base_uri": "https://localhost:8080/"
        },
        "id": "s-DAyexTIcc8",
        "outputId": "a87e4f8d-9f22-47b1-d17d-1d00ed067f0c"
      },
      "execution_count": null,
      "outputs": [
        {
          "output_type": "stream",
          "name": "stdout",
          "text": [
            "Você é menor de Idade!!!\n"
          ]
        }
      ]
    },
    {
      "cell_type": "code",
      "source": [
        "# Condição IF + ELSE + ELIF\n",
        "\n",
        "Idade = int( 14 )\n",
        "\n",
        "if Idade > 18:\n",
        "  print('Você é de maior!')\n",
        "\n",
        "elif Idade == 18:\n",
        "  print('Opa! Bem vindo a maioridade!!!')\n",
        "\n",
        "elif Idade < 18 and Idade >= 14:\n",
        "\n",
        "  if Idade % 2 == 0:\n",
        "    print('Quase um adulto!!! Aproveite !!!!!!!!!!')\n",
        "\n",
        "else:\n",
        "  print('Você é menor de Idade!!!')"
      ],
      "metadata": {
        "colab": {
          "base_uri": "https://localhost:8080/"
        },
        "id": "NKPGI8daIcgj",
        "outputId": "1b3268e6-d54a-4fe1-f758-d7f8d6e7ac64"
      },
      "execution_count": null,
      "outputs": [
        {
          "output_type": "stream",
          "name": "stdout",
          "text": [
            "Quase um adulto!!! Aproveite !!!!!!!!!!\n"
          ]
        }
      ]
    },
    {
      "cell_type": "markdown",
      "source": [
        "# **23. Estrutura de Loop FOR**\n",
        "A estrutura de repetição for permite executar um bloco de códigos repetidas vezes até que uma condição seja verdadeira. Na linguagem Python, ela é utilizada para percorrer elementos em sequência, como uma string, uma lista, uma tupla ou objetos iteráveis."
      ],
      "metadata": {
        "id": "J-GQ1GG4QO1L"
      }
    },
    {
      "cell_type": "code",
      "source": [
        "# For [ Loop ]\n",
        "\n",
        "for QualquerCoisaQueVoceEscolher in range(10):\n",
        "  print( QualquerCoisaQueVoceEscolher ** 2  ) "
      ],
      "metadata": {
        "colab": {
          "base_uri": "https://localhost:8080/"
        },
        "id": "vMPaZ2I4Icjp",
        "outputId": "bce06c92-d514-4fe4-bedd-68326084c763"
      },
      "execution_count": null,
      "outputs": [
        {
          "output_type": "stream",
          "name": "stdout",
          "text": [
            "0\n",
            "1\n",
            "4\n",
            "9\n",
            "16\n",
            "25\n",
            "36\n",
            "49\n",
            "64\n",
            "81\n"
          ]
        }
      ]
    },
    {
      "cell_type": "code",
      "source": [
        "# For + Lista\n",
        "\n",
        "Lista_Paises = ['Brasil', 'Argentina', 'Uruguai', 'Chile', 'Paraguai', 'Bolivia', 'Equador', \n",
        "                'Colombia', 'Suriname', 'Guiana', 'Guiana Francesa']\n",
        "\n",
        "for Loop in Lista_Paises:\n",
        "  print( Loop )"
      ],
      "metadata": {
        "colab": {
          "base_uri": "https://localhost:8080/"
        },
        "id": "yn8nG3tDRqj7",
        "outputId": "44a6993c-16bf-4f99-d1b5-b50f4d38a7c8"
      },
      "execution_count": null,
      "outputs": [
        {
          "output_type": "stream",
          "name": "stdout",
          "text": [
            "Brasil\n",
            "Argentina\n",
            "Uruguai\n",
            "Chile\n",
            "Paraguai\n",
            "Bolivia\n",
            "Equador\n",
            "Colombia\n",
            "Suriname\n",
            "Guiana\n",
            "Guiana Francesa\n"
          ]
        }
      ]
    },
    {
      "cell_type": "code",
      "source": [
        "# For + Lista\n",
        "Lista_Paises = ['Brasil', 'Argentina', 'Uruguai', 'Chile', 'Paraguai', 'Bolivia', 'Equador', \n",
        "                'Colombia', 'Suriname', 'Guiana', 'Guiana Francesa']\n",
        "\n",
        "for Loop in range( len(Lista_Paises) ):\n",
        "  print( Lista_Paises[Loop] )"
      ],
      "metadata": {
        "colab": {
          "base_uri": "https://localhost:8080/"
        },
        "id": "ewTm-UqBRqnj",
        "outputId": "16c93b2e-6cac-447e-8e07-8ce1228ca184"
      },
      "execution_count": null,
      "outputs": [
        {
          "output_type": "stream",
          "name": "stdout",
          "text": [
            "Brasil\n",
            "Argentina\n",
            "Uruguai\n",
            "Chile\n",
            "Paraguai\n",
            "Bolivia\n",
            "Equador\n",
            "Colombia\n",
            "Suriname\n",
            "Guiana\n",
            "Guiana Francesa\n"
          ]
        }
      ]
    },
    {
      "cell_type": "code",
      "source": [
        "# For + Lista + IF + enumerate\n",
        "for Posicao, P in enumerate( Lista_Paises ):\n",
        "  print( Posicao / 4 , P )"
      ],
      "metadata": {
        "colab": {
          "base_uri": "https://localhost:8080/"
        },
        "id": "-paUNsbFRqq7",
        "outputId": "8f3b6d21-a519-4520-d35d-ea6a7af6981b"
      },
      "execution_count": null,
      "outputs": [
        {
          "output_type": "stream",
          "name": "stdout",
          "text": [
            "0.0 Brasil\n",
            "0.25 Argentina\n",
            "0.5 Uruguai\n",
            "0.75 Chile\n",
            "1.0 Paraguai\n",
            "1.25 Bolivia\n",
            "1.5 Equador\n",
            "1.75 Colombia\n",
            "2.0 Suriname\n",
            "2.25 Guiana\n",
            "2.5 Guiana Francesa\n"
          ]
        }
      ]
    },
    {
      "cell_type": "code",
      "source": [
        "# for + LISTa + IF + RANGE\n",
        "Lista_Numerica = [ Numero for Numero in range(1, 100, 5) ]\n",
        "Armazenar = []\n",
        "\n",
        "for x in Lista_Numerica:\n",
        "\n",
        "  if x % 2 == 0:\n",
        "    Armazenar.append( x )\n",
        "\n",
        "print( Armazenar )\n",
        "\n",
        "from pandas import DataFrame\n",
        "print( DataFrame(Armazenar) )"
      ],
      "metadata": {
        "colab": {
          "base_uri": "https://localhost:8080/"
        },
        "id": "aGej5ScFRquS",
        "outputId": "e3a557a2-85ab-4e37-e318-9dbfce5952b4"
      },
      "execution_count": null,
      "outputs": [
        {
          "output_type": "stream",
          "name": "stdout",
          "text": [
            "[6, 16, 26, 36, 46, 56, 66, 76, 86, 96]\n",
            "    0\n",
            "0   6\n",
            "1  16\n",
            "2  26\n",
            "3  36\n",
            "4  46\n",
            "5  56\n",
            "6  66\n",
            "7  76\n",
            "8  86\n",
            "9  96\n"
          ]
        }
      ]
    },
    {
      "cell_type": "code",
      "source": [
        "# For + Lista + Dicionario\n",
        "\n",
        "Lista = [ 'Brasil', 'Argentina', 'Uruaguai', 'Paraguai' ]\n",
        "\n",
        "Dicionario = {\n",
        "    'Brasil' : 'Real',\n",
        "    'Argentina' : 'Peso ARG',\n",
        "    'Uruaguai' : 'Peso URU',\n",
        "    'Paraguai' : 'Guarany'\n",
        "}\n",
        "\n",
        "for Paises in Lista:\n",
        "\n",
        "  if Paises == 'Brasil':\n",
        "    print( f'Moeda do {Paises} é { Dicionario[Paises] }' )\n",
        "    print('Moeda do', Paises, 'é', Dicionario[Paises] )\n",
        "    print('Moeda do ' + str (Paises) + ' é ' + str(Dicionario[Paises] ) )\n",
        "  else:\n",
        "    pass"
      ],
      "metadata": {
        "colab": {
          "base_uri": "https://localhost:8080/"
        },
        "id": "q7IcB-vbRqyT",
        "outputId": "a9ae8184-5d14-44b3-d27e-f01197db94b8"
      },
      "execution_count": null,
      "outputs": [
        {
          "output_type": "stream",
          "name": "stdout",
          "text": [
            "Moeda do Brasil é Real\n",
            "Moeda do Brasil é Real\n",
            "Moeda do Brasil é Real\n"
          ]
        }
      ]
    },
    {
      "cell_type": "markdown",
      "source": [
        "# **24. Estrutura de Loop WHILE**\n",
        "Python While Loop é usado para executar um bloco de instruções repetidamente até que uma determinada condição seja satisfeita. E quando a condição se torna falsa, a linha imediatamente após o loop no programa é executada. While loop se enquadra na categoria de iteração indefinida . A iteração indefinida significa que o número de vezes que o loop é executado não é especificado explicitamente com antecedência.<p>\n",
        "while expressão:\n",
        "*   loop"
      ],
      "metadata": {
        "id": "Sg-I77vHT6wU"
      }
    },
    {
      "cell_type": "code",
      "source": [
        "# While\n",
        "Loop = 0\n",
        "\n",
        "while Loop <= 10:\n",
        "  print( Loop )\n",
        "  Loop += 1"
      ],
      "metadata": {
        "colab": {
          "base_uri": "https://localhost:8080/"
        },
        "id": "h7dTW0Z4Rrfc",
        "outputId": "f0dfa049-25af-44f2-e7d7-309e52f412d3"
      },
      "execution_count": null,
      "outputs": [
        {
          "output_type": "stream",
          "name": "stdout",
          "text": [
            "0\n",
            "1\n",
            "2\n",
            "3\n",
            "4\n",
            "5\n",
            "6\n",
            "7\n",
            "8\n",
            "9\n",
            "10\n"
          ]
        }
      ]
    },
    {
      "cell_type": "code",
      "source": [
        "# While\n",
        "Loop = 0\n",
        "\n",
        "while Loop <= 10:\n",
        "  print( Loop )\n",
        "  Loop += 1\n",
        "\n",
        "  if Loop == 5:\n",
        "    \n",
        "    for c in range(10):\n",
        "      print(c)"
      ],
      "metadata": {
        "colab": {
          "base_uri": "https://localhost:8080/"
        },
        "id": "bR8Qm6IMRriz",
        "outputId": "1620d509-24fb-4e51-a149-6aaf1bce6ca8"
      },
      "execution_count": null,
      "outputs": [
        {
          "output_type": "stream",
          "name": "stdout",
          "text": [
            "0\n",
            "1\n",
            "2\n",
            "3\n",
            "4\n",
            "0\n",
            "1\n",
            "2\n",
            "3\n",
            "4\n",
            "5\n",
            "6\n",
            "7\n",
            "8\n",
            "9\n",
            "5\n",
            "6\n",
            "7\n",
            "8\n",
            "9\n",
            "10\n"
          ]
        }
      ]
    },
    {
      "cell_type": "code",
      "source": [
        "# While True\n",
        "# Joginho\n",
        "import random\n",
        "\n",
        "while True:\n",
        "\n",
        "  Jogador1 = random.randint(0, 6)\n",
        "  Jogador2 = random.randint(5, 10)\n",
        "\n",
        "  if Jogador1 > Jogador2:\n",
        "    print(Jogador1, '-', Jogador2, 'FINALMENTE !!!!!!!!!!!')\n",
        "    break\n",
        "\n",
        "  else:\n",
        "    print(Jogador1, '-', Jogador2)"
      ],
      "metadata": {
        "colab": {
          "base_uri": "https://localhost:8080/"
        },
        "id": "2x3OZpu7UFqh",
        "outputId": "86e7bf63-e16f-42ce-bbec-076dce074b54"
      },
      "execution_count": null,
      "outputs": [
        {
          "output_type": "stream",
          "name": "stdout",
          "text": [
            "0 - 6\n",
            "1 - 9\n",
            "6 - 5 FINALMENTE !!!!!!!!!!!\n"
          ]
        }
      ]
    },
    {
      "cell_type": "markdown",
      "source": [
        "# **25. Estrutura de Quebra BREAK e CONTINUE**\n",
        "O uso de loops no Python automatiza e repete as tarefas de maneira eficiente. Mas, às vezes, pode surgir uma condição em que você deseja sair completamente do loop, pular uma interação ou ignorar essa condição. Isso pode ser feito por instruções de controle de loop . As instruções de controle de loop alteram a execução de sua sequência normal. Quando a execução sai de um escopo, todos os objetos automáticos que foram criados nesse escopo são destruídos. Python suporta as seguintes instruções de controle."
      ],
      "metadata": {
        "id": "2mwz-MQPUYii"
      }
    },
    {
      "cell_type": "code",
      "source": [
        "# For + Lista + IF + Break\n",
        "Lista_Paises = ['Brasil', 'Argentina', 'Uruguai', 'Chile', 'Paraguai', 'Bolivia', 'Equador', \n",
        "                'Colombia', 'Suriname', 'Guiana', 'Guiana Francesa']\n",
        "Loop = 0\n",
        "\n",
        "for P in Lista_Paises:\n",
        "\n",
        "  if P == 'Chile':\n",
        "    print('Chegou')\n",
        "    break\n",
        "\n",
        "  else:\n",
        "    pass\n",
        "\n",
        "  Loop += 1\n",
        "  print( Loop )"
      ],
      "metadata": {
        "colab": {
          "base_uri": "https://localhost:8080/"
        },
        "id": "4bGbekmaUbsq",
        "outputId": "14cfd04e-11b9-4eb5-dd2a-438e8b901ada"
      },
      "execution_count": 283,
      "outputs": [
        {
          "output_type": "stream",
          "name": "stdout",
          "text": [
            "1\n",
            "2\n",
            "3\n",
            "Chegou\n"
          ]
        }
      ]
    },
    {
      "cell_type": "code",
      "source": [
        "# While\n",
        "Loop = 0\n",
        "\n",
        "while Loop <= 10:\n",
        "  print( Loop )\n",
        "  Loop += 1\n",
        "\n",
        "  if Loop == 5:\n",
        "    \n",
        "    for c in range(10):\n",
        "      print(c)\n",
        "  \n",
        "    break"
      ],
      "metadata": {
        "colab": {
          "base_uri": "https://localhost:8080/"
        },
        "id": "eF3IZNjaUbwi",
        "outputId": "8ed105b1-4d6f-41f3-e135-63d7f442a74f"
      },
      "execution_count": null,
      "outputs": [
        {
          "output_type": "stream",
          "name": "stdout",
          "text": [
            "0\n",
            "1\n",
            "2\n",
            "3\n",
            "4\n",
            "0\n",
            "1\n",
            "2\n",
            "3\n",
            "4\n",
            "5\n",
            "6\n",
            "7\n",
            "8\n",
            "9\n"
          ]
        }
      ]
    },
    {
      "cell_type": "code",
      "source": [
        "# Loop de 1 a 10\n",
        "for i in range(1, 11):\n",
        " \n",
        "    # If i for igual a 5,\n",
        "    # Não escreva\n",
        "    # continue com a interação\n",
        "\n",
        "    if i == 5:\n",
        "      continue\n",
        "      print(f'{i}º interação --> Estou no IF')\n",
        "        \n",
        "    else:\n",
        "        # otherwise print the value\n",
        "        # of i\n",
        "        print(f'{i}º Continue continua sempre!!!!')\n",
        "        #print(i)"
      ],
      "metadata": {
        "colab": {
          "base_uri": "https://localhost:8080/"
        },
        "id": "59FUOuQvUbz7",
        "outputId": "ea6589f8-751f-4bb1-a1e7-8a2e1c90920a"
      },
      "execution_count": 284,
      "outputs": [
        {
          "output_type": "stream",
          "name": "stdout",
          "text": [
            "1º Continue continua sempre!!!!\n",
            "2º Continue continua sempre!!!!\n",
            "3º Continue continua sempre!!!!\n",
            "4º Continue continua sempre!!!!\n",
            "6º Continue continua sempre!!!!\n",
            "7º Continue continua sempre!!!!\n",
            "8º Continue continua sempre!!!!\n",
            "9º Continue continua sempre!!!!\n",
            "10º Continue continua sempre!!!!\n"
          ]
        }
      ]
    },
    {
      "cell_type": "markdown",
      "source": [
        "# **26. Estrutura de Funções**\n",
        "Uma função é um bloco de código que só é executado quando é chamado.<p>\n",
        "Você pode passar dados, conhecidos como parâmetros, para uma função.<p>\n",
        "Uma função pode retornar dados como resultado."
      ],
      "metadata": {
        "id": "1EeCP_weUoVg"
      }
    },
    {
      "cell_type": "code",
      "source": [
        "# Funções simples\n",
        "def Somar(Valor1, Valor2):\n",
        "  Soma = Valor1 + Valor2\n",
        "  print(Soma)\n",
        "\n",
        "Somar(-67.900, 10.121233)"
      ],
      "metadata": {
        "colab": {
          "base_uri": "https://localhost:8080/"
        },
        "id": "dg1jVGA5Ub3q",
        "outputId": "e62bdb04-a804-4a85-ab4f-25dc71a5fbf0"
      },
      "execution_count": null,
      "outputs": [
        {
          "output_type": "stream",
          "name": "stdout",
          "text": [
            "-57.778767\n"
          ]
        }
      ]
    },
    {
      "cell_type": "code",
      "source": [
        "def Boas_Vindas():\n",
        "  print('********* PYTHON **************')\n",
        "\n",
        "Boas_Vindas()"
      ],
      "metadata": {
        "colab": {
          "base_uri": "https://localhost:8080/"
        },
        "id": "XTlguBaxUyB3",
        "outputId": "7649353b-ca79-4127-dec8-6a031b3d112e"
      },
      "execution_count": null,
      "outputs": [
        {
          "output_type": "stream",
          "name": "stdout",
          "text": [
            "********* PYTHON **************\n"
          ]
        }
      ]
    },
    {
      "cell_type": "code",
      "source": [
        "from random import randint\n",
        "# Função\n",
        "def Sobrenome( Algum_Texto, Numero ):\n",
        "  print(f'Nome dele é: {Algum_Texto}')\n",
        "\n",
        "  if Numero >= 10:\n",
        "    print('Maior que 10')\n",
        "  else:\n",
        "    print('NADA!')\n",
        "\n",
        "Lista_Nomes = ['Odemir', 'Luigi', 'Mariana']\n",
        "\n",
        "for Nome in Lista_Nomes:\n",
        "  Sobrenome( Nome, randint(1,12) )"
      ],
      "metadata": {
        "colab": {
          "base_uri": "https://localhost:8080/"
        },
        "id": "zQyE5UHtU0qB",
        "outputId": "ed0f8a17-4cd7-447d-f839-0ba80d7e4e7b"
      },
      "execution_count": null,
      "outputs": [
        {
          "output_type": "stream",
          "name": "stdout",
          "text": [
            "Nome dele é: Odemir\n",
            "NADA!\n",
            "Nome dele é: Luigi\n",
            "NADA!\n",
            "Nome dele é: Mariana\n",
            "Maior que 10\n"
          ]
        }
      ]
    },
    {
      "cell_type": "markdown",
      "source": [
        "# **27. Estrutura Lambda**\n",
        "Uma função lambda é uma pequena função anônima.<p>\n",
        "Uma função lambda pode receber qualquer número de argumentos, mas pode ter apenas uma expressão."
      ],
      "metadata": {
        "id": "w6-aOI0zU30a"
      }
    },
    {
      "cell_type": "code",
      "source": [
        "# Função\n",
        "Funcao = lambda valor: valor + 10\n",
        "print( Funcao( 10 ) )\n",
        "\n",
        "Funcao_02 = lambda valor1, valor2 : valor1 + valor2\n",
        "print( Funcao_02( 100 , 100 ) )"
      ],
      "metadata": {
        "colab": {
          "base_uri": "https://localhost:8080/"
        },
        "id": "c-ltySfYU8yF",
        "outputId": "9a7c440e-0e20-4451-ab2d-e005395f521e"
      },
      "execution_count": null,
      "outputs": [
        {
          "output_type": "stream",
          "name": "stdout",
          "text": [
            "20\n",
            "200\n"
          ]
        }
      ]
    },
    {
      "cell_type": "code",
      "source": [
        "# Função Lambda\n",
        "Nao_Faxa_isso = lambda Qualquer_Valor: 'Verdadeiro' if Qualquer_Valor % 2 == 0 else 'Falso'\n",
        "#Nao_Faxa_isso = lambda x: True if x % 2 == 0 else Falso\n",
        "Nao_Faxa_isso( 100 )"
      ],
      "metadata": {
        "colab": {
          "base_uri": "https://localhost:8080/",
          "height": 35
        },
        "id": "WDenGYFTU81k",
        "outputId": "c239b391-1464-4dcf-ec57-1b0873da6c53"
      },
      "execution_count": null,
      "outputs": [
        {
          "output_type": "execute_result",
          "data": {
            "text/plain": [
              "'Verdadeiro'"
            ],
            "application/vnd.google.colaboratory.intrinsic+json": {
              "type": "string"
            }
          },
          "metadata": {},
          "execution_count": 241
        }
      ]
    },
    {
      "cell_type": "markdown",
      "source": [
        "# **28. Estrutura TRY**\n",
        "O **try** permite testar um bloco de código quanto a erros.<p>\n",
        "O **except** permite que você lide com o erro.<p>\n",
        "O **else** permite executar código quando não há erro. <p>\n",
        "O **finally** permite que você execute código, independentemente do resultado dos blocos try e except. <p>"
      ],
      "metadata": {
        "id": "nPbvGbOCU9AF"
      }
    },
    {
      "cell_type": "code",
      "source": [
        "# \n",
        "try:\n",
        "  0 / 0 \n",
        "except:\n",
        "  print('Deu Ruim!!!')"
      ],
      "metadata": {
        "colab": {
          "base_uri": "https://localhost:8080/"
        },
        "id": "WQsbMTDSU9S9",
        "outputId": "6a848ed3-2971-433c-9781-3fe0cf176d81"
      },
      "execution_count": null,
      "outputs": [
        {
          "output_type": "stream",
          "name": "stdout",
          "text": [
            "Deu Ruim!!!\n"
          ]
        }
      ]
    },
    {
      "cell_type": "code",
      "source": [
        "try:\n",
        "  print(Existe_Algo_Que_Nao_Defini)\n",
        "\n",
        "except NameError:\n",
        "  print(\"Ops algo deu errado!\")\n",
        "\n",
        "finally:\n",
        "  print(\"Vou ser executado de qualquer forma\")"
      ],
      "metadata": {
        "colab": {
          "base_uri": "https://localhost:8080/"
        },
        "id": "Ce4YAKbNU9W8",
        "outputId": "69f962dc-60ba-4697-d508-963f9dd3719f"
      },
      "execution_count": null,
      "outputs": [
        {
          "output_type": "stream",
          "name": "stdout",
          "text": [
            "Ops algo deu errado!\n",
            "Vou ser executado de qualquer forma\n"
          ]
        }
      ]
    },
    {
      "cell_type": "markdown",
      "source": [
        "# **29. Estrutura de Classes/Objetos**\n",
        "Python é uma linguagem de programação orientada a objetos.<p>\n",
        "Quase tudo em Python é um objeto, com suas propriedades e métodos.<p>\n",
        "Uma classe é como um construtor de objetos, ou um \"projeto\" para criar objetos."
      ],
      "metadata": {
        "id": "h7mnNB6VVT1v"
      }
    },
    {
      "cell_type": "code",
      "source": [
        "class Pessoa:\n",
        "\n",
        "  # Metodo Construtor\n",
        "  def __init__(self, Nome, Idade):\n",
        "    self.Nome = Nome\n",
        "    self.Idade = Idade\n",
        "\n",
        "  def Boas_Vindas(self):\n",
        "    print('Olá seja bem vindo: ', self.Nome)\n",
        "\n",
        "  def Recusado(self):\n",
        "    print('Seu acesso foi recusado!')\n",
        "\n",
        "  # Função\n",
        "  def Maior_Idade(self):\n",
        "    if self.Idade >= 18:\n",
        "      print('Usuário é maior de idade')\n",
        "      self.Boas_Vindas()\n",
        "    else:\n",
        "      print('Usuário é menor de Idade')\n",
        "      self.Recusado()"
      ],
      "metadata": {
        "id": "KQDNAW-oVUOv"
      },
      "execution_count": null,
      "outputs": []
    },
    {
      "cell_type": "code",
      "source": [
        "Dados = Pessoa('Alex', 12)"
      ],
      "metadata": {
        "id": "q_3kmptnVgta"
      },
      "execution_count": null,
      "outputs": []
    },
    {
      "cell_type": "code",
      "source": [
        "Dados.Maior_Idade()"
      ],
      "metadata": {
        "colab": {
          "base_uri": "https://localhost:8080/"
        },
        "id": "syK-x34pVoZU",
        "outputId": "b86980f2-138d-40b5-e409-19729ca56499"
      },
      "execution_count": null,
      "outputs": [
        {
          "output_type": "stream",
          "name": "stdout",
          "text": [
            "Usuário é menor de Idade\n",
            "Seu acesso foi recusado!\n"
          ]
        }
      ]
    },
    {
      "cell_type": "markdown",
      "source": [
        "# **30. Módulos/Pacotes**\n",
        "Considere um módulo como sendo o mesmo que uma biblioteca de código.<p>\n",
        "Para instalar um pacote utilize o 'pip install'."
      ],
      "metadata": {
        "id": "y7khgMThWGza"
      }
    },
    {
      "cell_type": "code",
      "source": [
        "import time\n",
        "import datetime"
      ],
      "metadata": {
        "id": "4P5JxaWPWHHh"
      },
      "execution_count": null,
      "outputs": []
    },
    {
      "cell_type": "code",
      "source": [
        "# !pip install pandas\n",
        "!pip install pandas"
      ],
      "metadata": {
        "colab": {
          "base_uri": "https://localhost:8080/"
        },
        "id": "We8VXPZ7WHRK",
        "outputId": "ff37ce0b-facc-4467-f3ff-2a4773e1f4fc"
      },
      "execution_count": null,
      "outputs": [
        {
          "output_type": "stream",
          "name": "stdout",
          "text": [
            "Looking in indexes: https://pypi.org/simple, https://us-python.pkg.dev/colab-wheels/public/simple/\n",
            "Requirement already satisfied: pandas in /usr/local/lib/python3.7/dist-packages (1.3.5)\n",
            "Requirement already satisfied: pytz>=2017.3 in /usr/local/lib/python3.7/dist-packages (from pandas) (2022.1)\n",
            "Requirement already satisfied: numpy>=1.17.3 in /usr/local/lib/python3.7/dist-packages (from pandas) (1.21.6)\n",
            "Requirement already satisfied: python-dateutil>=2.7.3 in /usr/local/lib/python3.7/dist-packages (from pandas) (2.8.2)\n",
            "Requirement already satisfied: six>=1.5 in /usr/local/lib/python3.7/dist-packages (from python-dateutil>=2.7.3->pandas) (1.15.0)\n"
          ]
        }
      ]
    },
    {
      "cell_type": "markdown",
      "source": [
        "# **31. Print formatado**\n",
        "Existe diversas formas de utilizar prints no Python."
      ],
      "metadata": {
        "id": "bUFuz2k4WZN6"
      }
    },
    {
      "cell_type": "code",
      "source": [
        "print('Soma de 2 + 2 é:', 2 + 2 )"
      ],
      "metadata": {
        "colab": {
          "base_uri": "https://localhost:8080/"
        },
        "id": "ps7XExckWZYs",
        "outputId": "72a1e7a5-0c82-42cc-8f2a-448dbacd465b"
      },
      "execution_count": null,
      "outputs": [
        {
          "output_type": "stream",
          "name": "stdout",
          "text": [
            "Soma de 2 + 2 é: 4\n"
          ]
        }
      ]
    },
    {
      "cell_type": "code",
      "source": [
        "print( f'Soma de 2 + 2 é: { round(2 + 2) }' )"
      ],
      "metadata": {
        "colab": {
          "base_uri": "https://localhost:8080/"
        },
        "id": "1GssSsXZWZ5r",
        "outputId": "6666f336-a444-40b9-f062-f4948e9d2eca"
      },
      "execution_count": null,
      "outputs": [
        {
          "output_type": "stream",
          "name": "stdout",
          "text": [
            "Soma de 2 + 2 é: 4\n"
          ]
        }
      ]
    },
    {
      "cell_type": "code",
      "source": [
        "print('Soma de 2 + 2 é: {}'.format(2+2) )"
      ],
      "metadata": {
        "colab": {
          "base_uri": "https://localhost:8080/"
        },
        "id": "ZemWmSMBWaAp",
        "outputId": "4f8ef275-9ab8-4464-b3d6-0b98a56bed43"
      },
      "execution_count": null,
      "outputs": [
        {
          "output_type": "stream",
          "name": "stdout",
          "text": [
            "Soma de 2 + 2 é: 4\n"
          ]
        }
      ]
    }
  ]
}